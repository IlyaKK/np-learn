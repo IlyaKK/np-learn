{
 "cells": [
  {
   "cell_type": "markdown",
   "metadata": {},
   "source": [
    "# Advanced Numpy Techniques\n",
    "\n",
    "<img src=\"assets/numpylogo.png\" alt=\"http://www.numpy.org/#\">\n",
    "\n",
    "General, user-friendly [documentation](https://docs.scipy.org/doc/numpy/index.html) with lots of examples.\n",
    "\n",
    "Technical, \"hard\" [reference](https://docs.scipy.org/doc/numpy/reference/index.html#reference).\n",
    "\n",
    "Dataquest [cheat sheet](https://www.dataquest.io/blog/images/cheat-sheets/numpy-cheat-sheet.pdf).\n",
    "\n",
    "Basic Python knowledge assumed, see [here](https://github.com/ASvyatkovskiy/PythonWorkshop/blob/Spring2017/1_PythonBasics/PythonBasics.ipynb).\n",
    "\n",
    "CPython ~3.6, NumPy ~1.12\n",
    "\n",
    "## What is it?\n",
    "\n",
    "[NumPy](http://www.numpy.org/) is an open-source package that's part of the [SciPy](https://scipy.org/) ecosystem. Its main feature is an array object of arbitrary dimension, but this fundamental collection is integral to any data-focused Python application.\n",
    "\n",
    "\n",
    "<table>\n",
    "<tr>\n",
    "<th>\n",
    "<img src=\"assets/nonsteeplearn.png\" width=\"200\" alt=\"http://gabriellhanna.blogspot.com/2015/03/negatively-accelerated-learning-curve-i.html\">\n",
    "</th><th>\n",
    "<img src=\"assets/steeplearn.jpg\" width=\"200\" alt=\"http://malaher.org/2007/03/pet-peeve-learning-curve-misuse/\">\n",
    "</th></tr></table>\n",
    "\n",
    "Most people learn numpy through assimilation or necessity. I believe NumPy has the latter learning curve (steep/easy to learn), so you can actually invest just a little bit of time now (by going through this notebook, for instance), and reap a lot of reward!\n",
    "\n",
    "# Motivation\n",
    "\n",
    "* Provide a uniform interface for handling numerical structured data\n",
    "* Collect, store, and manipulate numerical data efficiently\n",
    "* Low-cost abstractions\n",
    "* Universal glue for numerical information, used in lots of external libraries!\n",
    "\n",
    "\n",
    "<table>\n",
    "<tr>\n",
    "<th>\n",
    "<img src=\"assets/numba.png\" alt=\"http://numba.pydata.org/\" width=\"150\"></th><th><img src=\"assets/pandas.png\" alt=\"http://pandas.pydata.org/\"  width=\"150\"> </th><th><img src=\"assets/tf.png\" alt=\"https://github.com/tensorflow/tensorflow\" width=\"150\"></th><th> <img src=\"assets/sklearn.png\" alt=\"https://github.com/scikit-learn/scikit-learn\" width=\"150\"> </th><th><img src=\"assets/stan.png\" alt=\"http://mc-stan.org/\" width=\"150\"></th>\n",
    "</tr>\n",
    "</table>\n",
    "\n",
    "\n",
    "\n",
    "# Goals and Non-goals\n",
    "\n",
    "### Goals\n",
    "\n",
    "What I'll do:\n",
    "\n",
    "* Give a bit of basics first.\n",
    "* Describe NumPy, with under-the-hood details to the extent that they are useful to you, the user\n",
    "* Highlight some [GOTCHA]s, avoid some common bugs\n",
    "* Point out a couple useful NumPy functions\n",
    "\n",
    "**This is not an attempt to exaustively cover the reference manual (there's too many individual functions to keep in your head, anyway).**\n",
    "\n",
    "Instead, I'll try to...\n",
    "\n",
    "* provide you with an overview of the API structure so next time you're doing numeric data work you'll know where to look\n",
    "* convince you that NumPy arrays offer the perfect data structure for the following (wide-ranging) use case:\n",
    "\n",
    "**RAM-sized general-purpose structured numerical data applications: manipulation, collection, and analysis.**\n",
    "\n",
    "### Non-goals\n",
    "\n",
    "* No emphasis on multicore processing, but will be briefly mentioned\n",
    "* Some NumPy functionality not covered -- mentioned briefly at end\n",
    "* HPC concerns\n",
    "* GPU programming"
   ]
  },
  {
   "cell_type": "markdown",
   "metadata": {},
   "source": [
    "# Why not a Python list?\n",
    "\n",
    "A list is a resizing contiguous array of pointers.\n",
    "\n",
    "<img src=\"assets/pylist.png\" alt=\"http://www.laurentluce.com/posts/python-list-implementation/\">\n",
    "\n",
    "Nested lists are even worse - there are two levels of indirection.\n",
    "\n",
    "<img src=\"assets/nestlist.png\" alt=\"http://www.cs.toronto.edu/~gpenn/csc401/401_python_web/pyseq.html\">\n",
    "\n",
    "Imagine we're trying to apply a read or write operation over these arrays on our modern CPU:\n",
    "\n",
    "<img src=\"assets/vecproc.gif\" alt=\"http://www.netlib.org/utk/papers/advanced-computers_2004_10_14/sm-simd.html\">\n",
    "\n",
    "Compare to NumPy arrays:\n",
    "\n",
    "<img src=\"assets/nparr.png\" alt=\"https://www.safaribooksonline.com/library/view/python-for-data/9781491957653/ch04.html\" width=300>\n",
    "\n",
    "**Recurring theme**: NumPy lets us have the best of both worlds (high-level Python for development, optimized representation and speed via low-level C routines for execution)"
   ]
  },
  {
   "cell_type": "code",
   "execution_count": 1,
   "metadata": {
    "collapsed": true
   },
   "outputs": [],
   "source": [
    "import numpy as np\n",
    "import time\n",
    "import gc\n",
    "import sys\n",
    "\n",
    "assert sys.maxsize > 2 ** 32, \"get a new computer!\"\n",
    "\n",
    "# Allocation-sensitive timing needs to be done more carefully\n",
    "# Compares runtimes of f1, f2\n",
    "def compare_times(f1, f2, setup1=None, setup2=None, runs=5):\n",
    "    print('    format: mean seconds (standard error)', runs, 'runs')\n",
    "    maxpad = max(len(f.__name__) for f in (f1, f2))\n",
    "    means = []\n",
    "    for setup, f in [[setup1, f1], [setup2, f2]]:\n",
    "        setup = (lambda: tuple()) if setup is None else setup\n",
    "        \n",
    "        total_times = []\n",
    "        for _ in range(runs):\n",
    "            try:\n",
    "                gc.disable()\n",
    "                args = setup()\n",
    "                \n",
    "                start = time.time()\n",
    "                if isinstance(args, tuple):\n",
    "                    f(*args)\n",
    "                else:\n",
    "                    f(args)\n",
    "                end = time.time()\n",
    "                \n",
    "                total_times.append(end - start)\n",
    "            finally:\n",
    "                gc.enable()\n",
    "                \n",
    "        mean = np.mean(total_times)\n",
    "        se = np.std(total_times) / np.sqrt(len(total_times))\n",
    "        print('    {} {:.2e} ({:.2e})'.format(f.__name__.ljust(maxpad), mean, se))\n",
    "        means.append(mean)\n",
    "    print('    improvement ratio {:.1f}'.format(means[0] / means[1]))"
   ]
  },
  {
   "cell_type": "markdown",
   "metadata": {},
   "source": [
    "### Bandwidth-limited ops\n",
    "\n",
    "* Have pull in more cache lines for the pointers\n",
    "* Poor locality causes pipeline stalls"
   ]
  },
  {
   "cell_type": "code",
   "execution_count": 4,
   "metadata": {},
   "outputs": [
    {
     "name": "stdout",
     "output_type": "stream",
     "text": [
      "create a list\n",
      "    format: mean seconds (standard error) 5 runs\n",
      "    create_list  3.14e-01 (1.01e-02)\n",
      "    create_array 2.17e-02 (5.76e-04)\n",
      "    improvement ratio 14.4\n"
     ]
    }
   ],
   "source": [
    "print('create a list')\n",
    "size = 10 ** 7 # ints will be un-intered past 258\n",
    "\n",
    "def create_list(): return list(range(size))\n",
    "def create_array(): return np.arange(size, dtype=int)\n",
    "\n",
    "compare_times(create_list, create_array)"
   ]
  },
  {
   "cell_type": "code",
   "execution_count": 5,
   "metadata": {},
   "outputs": [
    {
     "name": "stdout",
     "output_type": "stream",
     "text": [
      "deep copies (no pre-allocation)\n",
      "    format: mean seconds (standard error) 5 runs\n",
      "    copy_list  8.26e-02 (2.77e-03)\n",
      "    copy_array 1.53e-02 (4.31e-04)\n",
      "    improvement ratio 5.4\n"
     ]
    }
   ],
   "source": [
    "print('deep copies (no pre-allocation)') # Shallow copy is cheap for both!\n",
    "size = 10 ** 7\n",
    "\n",
    "ls = list(range(size))\n",
    "def copy_list(): return ls[:]\n",
    "\n",
    "ar = np.arange(size, dtype=int)\n",
    "def copy_array(): return np.copy(ar)\n",
    "\n",
    "compare_times(copy_list, copy_array)"
   ]
  },
  {
   "cell_type": "code",
   "execution_count": 6,
   "metadata": {},
   "outputs": [
    {
     "name": "stdout",
     "output_type": "stream",
     "text": [
      "Deep copy (pre-allocated)\n",
      "    format: mean seconds (standard error) 5 runs\n",
      "    deep_copy_lists  7.86e-02 (8.65e-04)\n",
      "    deep_copy_arrays 1.48e-02 (3.55e-04)\n",
      "    improvement ratio 5.3\n"
     ]
    }
   ],
   "source": [
    "print('Deep copy (pre-allocated)')\n",
    "size = 10 ** 7\n",
    "\n",
    "def create_lists(): return list(range(size)), [0] * size\n",
    "def deep_copy_lists(src, dst): dst[:] = src\n",
    "\n",
    "def create_arrays(): return np.arange(size, dtype=int), np.empty(size, dtype=int)\n",
    "def deep_copy_arrays(src, dst): dst[:] = src\n",
    "\n",
    "compare_times(deep_copy_lists, deep_copy_arrays, create_lists, create_arrays)"
   ]
  },
  {
   "cell_type": "markdown",
   "metadata": {},
   "source": [
    "### Flop-limited ops\n",
    "\n",
    "* Can't engage VPU on non-contiguous memory: won't saturate CPU computational capabilities of your hardware."
   ]
  },
  {
   "cell_type": "code",
   "execution_count": 7,
   "metadata": {},
   "outputs": [
    {
     "name": "stdout",
     "output_type": "stream",
     "text": [
      "square out-of-place\n",
      "    format: mean seconds (standard error) 5 runs\n",
      "    square_lists  9.60e-01 (9.45e-03)\n",
      "    square_arrays 1.37e-02 (2.16e-04)\n",
      "    improvement ratio 70.2\n"
     ]
    }
   ],
   "source": [
    "print('square out-of-place')\n",
    "\n",
    "def square_lists(src, dst):\n",
    "    for i, v in enumerate(src):\n",
    "        dst[i] = v * v\n",
    "\n",
    "def square_arrays(src, dst):\n",
    "    np.square(src, out=dst)\n",
    "    \n",
    "compare_times(square_lists, square_arrays, create_lists, create_arrays)"
   ]
  },
  {
   "cell_type": "code",
   "execution_count": 8,
   "metadata": {},
   "outputs": [
    {
     "name": "stdout",
     "output_type": "stream",
     "text": [
      "square in-place\n",
      "    format: mean seconds (standard error) 5 runs\n",
      "    square_list  9.43e-01 (1.30e-02)\n",
      "    square_array 9.56e-03 (3.51e-04)\n",
      "    improvement ratio 98.6\n"
     ]
    }
   ],
   "source": [
    "# Caching and SSE can have huge cumulative effects\n",
    "\n",
    "print('square in-place')\n",
    "size = 10 ** 7\n",
    "\n",
    "def create_list(): return list(range(size))\n",
    "def square_list(ls):\n",
    "    for i, v in enumerate(ls):\n",
    "        ls[i] = v * v\n",
    "\n",
    "def create_array(): return np.arange(size, dtype=int)\n",
    "def square_array(ar):\n",
    "    np.square(ar, out=ar)\n",
    "    \n",
    "compare_times(square_list, square_array, create_list, create_array)"
   ]
  },
  {
   "cell_type": "markdown",
   "metadata": {},
   "source": [
    "### Memory consumption\n",
    "\n",
    "List representation uses 8 extra bytes for every value (assuming 64-bit here and henceforth)!"
   ]
  },
  {
   "cell_type": "code",
   "execution_count": 9,
   "metadata": {},
   "outputs": [
    {
     "name": "stdout",
     "output_type": "stream",
     "text": [
      "list  kb 400\n",
      "array kb 78\n"
     ]
    }
   ],
   "source": [
    "from pympler import asizeof\n",
    "size = 10 ** 4\n",
    "\n",
    "print('list  kb', asizeof.asizeof(list(range(size))) // 1024)\n",
    "print('array kb', asizeof.asizeof(np.arange(size, dtype=int)) // 1024)"
   ]
  },
  {
   "cell_type": "markdown",
   "metadata": {
    "collapsed": true
   },
   "source": [
    "### Disclaimer\n",
    "\n",
    "Regular python lists are still useful! They do a lot of things arrays can't:\n",
    "\n",
    "* List comprehensions `[x * x for x in range(10) if x % 2 == 0]`\n",
    "* Ragged nested lists `[[1, 2, 3], [1, [2]]]`\n",
    "* Contain arbitrary objects"
   ]
  },
  {
   "cell_type": "markdown",
   "metadata": {},
   "source": [
    "# The NumPy Array\n",
    "\n",
    "[doc](https://docs.scipy.org/doc/numpy/reference/arrays.ndarray.html#internal-memory-layout-of-an-ndarray)\n",
    "\n",
    "### Abstraction\n",
    "\n",
    "We know what a array is -- a contiugous chunk of memory holding an indexed list of things. If the things have a particular type, using, say, `dtype` as a placeholder, then we can refer to this as a `classical_array` of `dtype`s.\n",
    "\n",
    "The NumPy array, an `ndarray` with a _datatype, or dtype,_ `dtype` is an _N_-dimensional array for arbitrary _N_. This is defined recursively:\n",
    "* For _N > 0_, an _N_-dimensional `ndarray` of _dtype_ `dtype` is a `classical_array` of _N - 1_ dimensional `ndarray`s of _dtype_ `dtype`, all with the same size.\n",
    "* For _N = 0_, the `ndarray` is a `dtype`\n",
    "\n",
    "We note some familiar special cases:\n",
    "* _N = 0_, we have a scalar, or the datatype itself\n",
    "* _N = 1_, we have a `classical_array`\n",
    "* _N = 2_, we have a matrix\n",
    "\n",
    "Each _axis_ has its own `classical_array` length: this yields the shape."
   ]
  },
  {
   "cell_type": "code",
   "execution_count": 25,
   "metadata": {},
   "outputs": [
    {
     "name": "stdout",
     "output_type": "stream",
     "text": [
      "ndim 0 shape ()\n",
      "3.0\n",
      "ndim 1 shape (4,)\n",
      "[ 3.  3.  3.  3.]\n",
      "ndim 2 shape (2, 4)\n",
      "[[ 3.  3.  3.  3.]\n",
      " [ 3.  3.  3.  3.]]\n",
      "ndim 3 shape (2, 2, 4)\n",
      "[[[ 3.  3.  3.  3.]\n",
      "  [ 3.  3.  3.  3.]]\n",
      "\n",
      " [[ 3.  3.  3.  3.]\n",
      "  [ 3.  3.  3.  3.]]]\n"
     ]
    }
   ],
   "source": [
    "n0 = np.array(3, dtype=float)\n",
    "n1 = np.stack([n0, n0, n0, n0])\n",
    "n2 = np.stack([n1, n1])\n",
    "n3 = np.stack([n2, n2])\n",
    "\n",
    "for x in [n0, n1, n2, n3]:\n",
    "    print('ndim', x.ndim, 'shape', x.shape)\n",
    "    print(x)"
   ]
  },
  {
   "cell_type": "markdown",
   "metadata": {},
   "source": [
    "**Axes are read LEFT to RIGHT: an array of shape `(n0, n1, ..., nN-1)` has axis `0` with length `n0`, etc.**\n",
    "\n",
    "### Detour: Formal Representation\n",
    "\n",
    "Formally, a NumPy array can be viewed as a mathematical object. If:\n",
    "\n",
    "* The `dtype` belongs to some set $F$\n",
    "* The array has dimension $N$, with the $i$-th axis having length $n_i$\n",
    "* $N>1$\n",
    "\n",
    "Then this array is an object in:\n",
    "\n",
    "$$\n",
    "F^{n_0}\\otimes F^{n_{1}}\\otimes\\cdots \\otimes F^{n_{N-1}}\n",
    "$$\n",
    "\n",
    "$F^n$ is an $n$-dimensional vector field over $F$. An element in here can be represented by its canonical basis $\\textbf{e}_i^{(n)}$ as a sum for elements $f_i\\in F$:\n",
    "\n",
    "$$\n",
    "f_1\\textbf{e}_1^{(n)}+f_{2}\\textbf{e}_{2}^{(n)}+\\cdots +f_{n}\\textbf{e}_{n}^{(n)}\n",
    "$$\n",
    "\n",
    "$F^n\\otimes F^m$ is a tensor product, which takes two vector fields and gives you another. Then the tensor product is a special kind of vector field with dimension $nm$. Elements in here have a special structure which we can tie to the original vector fields $F^n,F^m$:\n",
    "\n",
    "$$\n",
    "\\sum_{i=1}^n\\sum_{j=1}^mf_{ij}(\\textbf{e}_{i}^{(n)}\\otimes \\textbf{e}_{j}^{(m)})\n",
    "$$\n",
    "\n",
    "Above, $(\\textbf{e}_{i}^{(n)}\\otimes \\textbf{e}_{j}^{(m)})$ is a basis vector of $F^n\\otimes F^m$ for each pair $i,j$.\n",
    "\n",
    "We will discuss what $F$ can be later; but most of this intuition (and a lot of NumPy functionality) is based on $F$ being a type corresponding to a field.\n",
    "\n",
    "# Back to CS / Mutability / Losing the Abstraction\n",
    "\n",
    "The above is a (simplified) view of `ndarray` as a tensor, but gives useful intuition for arrays that are **not mutated**.\n",
    "\n",
    "An `ndarray` **Python object** is a actually a _view_ into a shared `ndarray`. The _base_ is a representative of the equaivalence class of views of the same array\n",
    "\n",
    "<img src=\"assets/ndarrayrep.png\" alt=\"https://docs.scipy.org/doc/numpy/reference/arrays.html\">\n",
    "\n",
    "**This diagram is a lie!**"
   ]
  },
  {
   "cell_type": "code",
   "execution_count": 33,
   "metadata": {},
   "outputs": [
    {
     "name": "stdout",
     "output_type": "stream",
     "text": [
      "[0 1 2 3 4 5 6 7 8 9]\n"
     ]
    }
   ],
   "source": [
    "original = np.arange(10)\n",
    "\n",
    "# shallow copies\n",
    "s1 = original[:]\n",
    "s2 = s1.view()\n",
    "s3 = original[:5]\n",
    "\n",
    "print(original)"
   ]
  },
  {
   "cell_type": "code",
   "execution_count": 34,
   "metadata": {},
   "outputs": [
    {
     "name": "stdout",
     "output_type": "stream",
     "text": [
      "s1 [ 0  1 -1  3  4  5  6  7  8  9]\n",
      "s2 [ 0  1 -1  3  4  5  6  7  8  9]\n",
      "s3 [ 0  1 -1  3  4]\n"
     ]
    }
   ],
   "source": [
    "original[2] = -1\n",
    "print('s1', s1)\n",
    "print('s2', s2)\n",
    "print('s3', s3)"
   ]
  },
  {
   "cell_type": "code",
   "execution_count": 36,
   "metadata": {},
   "outputs": [
    {
     "data": {
      "text/plain": [
       "(140434859351216, 140434859351216, 140434859351216, 140434859351216)"
      ]
     },
     "execution_count": 36,
     "metadata": {},
     "output_type": "execute_result"
    }
   ],
   "source": [
    "id(original), id(s1.base), id(s2.base), id(s3.base)"
   ]
  },
  {
   "cell_type": "markdown",
   "metadata": {},
   "source": [
    "### Dtypes\n",
    "\n",
    "$F$ (our `dtype`) can be ([doc](https://docs.scipy.org/doc/numpy/reference/arrays.dtypes.html)):\n",
    "\n",
    "* boolean\n",
    "* integral\n",
    "* floating-point\n",
    "* complex floating-point\n",
    "* any structure ([record array](https://docs.scipy.org/doc/numpy/user/basics.rec.html)) of the above, e.g. [complex integral values](http://stackoverflow.com/questions/13863523/is-it-possible-to-create-a-numpy-ndarray-that-holds-complex-integers)\n",
    "\n",
    "The `dtype` can also be unicode, a date, or an arbitrary object, but those don't form fields. This means that most NumPy functions aren't usful for this data, since it's not numeric. Why have them at all?\n",
    "\n",
    "* for all: NumPy `ndarray`s offer the tensor abstraction described above.\n",
    "* unicode: consistent format in memory for bit operations and for I/O **[GOTCHA: don't use `np.chararray`, it's outdated]**\n",
    "* [date](https://docs.scipy.org/doc/numpy/reference/arrays.datetime.html): compact representation, addition/subtraction, basic parsing"
   ]
  },
  {
   "cell_type": "code",
   "execution_count": 38,
   "metadata": {},
   "outputs": [
    {
     "name": "stdout",
     "output_type": "stream",
     "text": [
      "i16 296 i64 896\n"
     ]
    }
   ],
   "source": [
    "# Names are pretty intuitive for basic types\n",
    "i16 = np.arange(100, dtype=np.uint16)\n",
    "i64 = np.arange(100, dtype=np.uint64)\n",
    "print('i16', asizeof.asizeof(i16), 'i64', asizeof.asizeof(i64))"
   ]
  },
  {
   "cell_type": "code",
   "execution_count": 48,
   "metadata": {},
   "outputs": [
    {
     "name": "stdout",
     "output_type": "stream",
     "text": [
      "[(1,  1) (2, -1)]\n",
      "1+1i\n",
      "2-1i\n"
     ]
    }
   ],
   "source": [
    "# We can use arbitrary structures for our own types\n",
    "# For example, exact Gaussian (complex) integers\n",
    "\n",
    "gauss = np.dtype([('re', np.int32), ('im', np.int32)])\n",
    "c2 = np.zeros(2, dtype=gauss)\n",
    "c2[0] = (1, 1)\n",
    "c2[1] = (2, -1)\n",
    "\n",
    "def print_gauss(g):\n",
    "    print('{}{:+d}i'.format(g['re'], g['im']))\n",
    "          \n",
    "print(c2)\n",
    "for x in c2:\n",
    "    print_gauss(x)"
   ]
  },
  {
   "cell_type": "code",
   "execution_count": 98,
   "metadata": {},
   "outputs": [
    {
     "name": "stdout",
     "output_type": "stream",
     "text": [
      "b'\\x00\\x05' 0000000000000101\n",
      "b'\\x05\\x00' 0000000000000101\n"
     ]
    }
   ],
   "source": [
    "l16 = np.array(5, dtype='>u2') # little endian signed char\n",
    "b16 = l16.astype('<u2') # big endian unsigned char\n",
    "print(l16.tobytes(), np.binary_repr(l16, width=16))\n",
    "print(b16.tobytes(), np.binary_repr(b16, width=16))"
   ]
  },
  {
   "cell_type": "markdown",
   "metadata": {},
   "source": [
    "# Indexing [doc](https://docs.scipy.org/doc/numpy/reference/arrays.indexing.html)\n",
    "\n",
    "Probably the most creative, unique part of the entire library. This is what makes NumPy `ndarray` better than any other array.\n",
    "\n",
    "And index returns an `ndarray` view based on the other `ndarray`.\n",
    "\n",
    "### Basic Indexing"
   ]
  },
  {
   "cell_type": "code",
   "execution_count": 140,
   "metadata": {},
   "outputs": [
    {
     "name": "stdout",
     "output_type": "stream",
     "text": [
      "[0 1 2 3 4 5 6 7 8 9]\n",
      "[2 4]\n",
      "140435356383552 140435356383552\n"
     ]
    }
   ],
   "source": [
    "x = np.arange(10)\n",
    "\n",
    "# start:stop:step\n",
    "# inclusive start, exclusive stop\n",
    "print(x)\n",
    "print(x[2:6:2])\n",
    "print(id(x), id(x[2:6:2].base))"
   ]
  },
  {
   "cell_type": "code",
   "execution_count": 107,
   "metadata": {},
   "outputs": [
    {
     "name": "stdout",
     "output_type": "stream",
     "text": [
      "[0 1 2]\n",
      "[7 8 9]\n"
     ]
    }
   ],
   "source": [
    "# Default start is 0, default end is length-1, default step is 1\n",
    "print(x[:3])\n",
    "print(x[7:])"
   ]
  },
  {
   "cell_type": "code",
   "execution_count": 141,
   "metadata": {},
   "outputs": [
    {
     "name": "stdout",
     "output_type": "stream",
     "text": [
      "[0 1 2 3 4 5 6 7 8 9]\n",
      "[]\n"
     ]
    }
   ],
   "source": [
    "# Don't worry about overshooting\n",
    "print(x[:100])\n",
    "print(x[7:2:1])"
   ]
  },
  {
   "cell_type": "code",
   "execution_count": 108,
   "metadata": {},
   "outputs": [
    {
     "name": "stdout",
     "output_type": "stream",
     "text": [
      "[6 7 8]\n"
     ]
    }
   ],
   "source": [
    "# Negatives wrap around (taken mod length of axis)\n",
    "print(x[-4:-1])"
   ]
  },
  {
   "cell_type": "code",
   "execution_count": 111,
   "metadata": {},
   "outputs": [
    {
     "name": "stdout",
     "output_type": "stream",
     "text": [
      "[9 8 7 6 5 0 1 2 3 4]\n",
      "[9 8 7]\n"
     ]
    }
   ],
   "source": [
    "# An array whose index goes up in reverse\n",
    "print(x[::-1])\n",
    "print(x[::-1][:3])"
   ]
  },
  {
   "cell_type": "code",
   "execution_count": 174,
   "metadata": {},
   "outputs": [
    {
     "name": "stdout",
     "output_type": "stream",
     "text": [
      "x[:5]                [0 1 2 3 4]\n",
      "x[:5][::-1]          [4 3 2 1 0]\n",
      "x[:5][::-1] (sorted) [0 1 2 3 4]\n",
      "x[:5] (rev-sorted)   [4 3 2 1 0]\n",
      "x                    [4 3 2 1 0 5 6 7 8 9]\n"
     ]
    }
   ],
   "source": [
    "# What happens if we do an ascending sort on an array with the same index?\n",
    "x = np.arange(10)\n",
    "\n",
    "print('x[:5]               ', x[:5])\n",
    "print('x[:5][::-1]         ', x[:5][::-1])\n",
    "x[:5][::-1].sort()\n",
    "print('x[:5][::-1] (sorted)', x[:5][::-1])\n",
    "print('x[:5] (rev-sorted)  ', x[:5])\n",
    "print('x                   ', x)"
   ]
  },
  {
   "cell_type": "code",
   "execution_count": 180,
   "metadata": {},
   "outputs": [
    {
     "name": "stdout",
     "output_type": "stream",
     "text": [
      "x (2, 4, 4)\n",
      "[[[ 0  1  2  3]\n",
      "  [ 4  5  6  7]\n",
      "  [ 8  9 10 11]\n",
      "  [12 13 14 15]]\n",
      "\n",
      " [[16 17 18 19]\n",
      "  [20 21 22 23]\n",
      "  [24 25 26 27]\n",
      "  [28 29 30 31]]]\n",
      "\n",
      "x[1, :, :1] (4, 1)\n",
      "[[16]\n",
      " [20]\n",
      " [24]\n",
      " [28]]\n",
      "\n"
     ]
    }
   ],
   "source": [
    "# Multi-dimensional\n",
    "\n",
    "def display(exp):\n",
    "    print(exp, eval(exp + '.shape'))\n",
    "    print(eval(exp))\n",
    "    print()\n",
    "    \n",
    "x = np.arange(4 * 4 * 2).reshape(2, 4, 4)\n",
    "display('x')\n",
    "display('x[1, :, :1]')"
   ]
  },
  {
   "cell_type": "code",
   "execution_count": 181,
   "metadata": {},
   "outputs": [
    {
     "name": "stdout",
     "output_type": "stream",
     "text": [
      "y (2, 2)\n",
      "[[0 1]\n",
      " [2 3]]\n",
      "\n",
      "y[:, :, np.newaxis] (2, 2, 1)\n",
      "[[[0]\n",
      "  [1]]\n",
      "\n",
      " [[2]\n",
      "  [3]]]\n",
      "\n",
      "y[np.newaxis, :, :, np.newaxis] (1, 2, 2, 1)\n",
      "[[[[0]\n",
      "   [1]]\n",
      "\n",
      "  [[2]\n",
      "   [3]]]]\n",
      "\n"
     ]
    }
   ],
   "source": [
    "# Add as many length-1 axes as you want [we'll see why later]\n",
    "y = np.arange(2 * 2).reshape(2, 2)\n",
    "display('y')\n",
    "display('y[:, :, np.newaxis]')\n",
    "display('y[np.newaxis, :, :, np.newaxis]')"
   ]
  },
  {
   "cell_type": "code",
   "execution_count": 182,
   "metadata": {},
   "outputs": [
    {
     "name": "stdout",
     "output_type": "stream",
     "text": [
      "slice 0 2 1\n",
      "x[0, 0, s] (2,)\n",
      "[0 1]\n",
      "\n",
      "x[tuple([0, 0, s])] (2,)\n",
      "[0 1]\n",
      "\n",
      "x[(0, 0, s)] (2,)\n",
      "[0 1]\n",
      "\n"
     ]
    }
   ],
   "source": [
    "# Programatically create indices\n",
    "def f(): return slice(0, 2, 1)\n",
    "s = f()\n",
    "print('slice', s.start, s.stop, s.step)\n",
    "display('x[0, 0, s]')\n",
    "# equivalent notation\n",
    "display('x[tuple([0, 0, s])]')\n",
    "display('x[(0, 0, s)]')"
   ]
  },
  {
   "cell_type": "code",
   "execution_count": 184,
   "metadata": {},
   "outputs": [
    {
     "name": "stdout",
     "output_type": "stream",
     "text": [
      "x[(0, 0, 1),] (3, 4, 4)\n",
      "[[[ 0  1  2  3]\n",
      "  [ 4  5  6  7]\n",
      "  [ 8  9 10 11]\n",
      "  [12 13 14 15]]\n",
      "\n",
      " [[ 0  1  2  3]\n",
      "  [ 4  5  6  7]\n",
      "  [ 8  9 10 11]\n",
      "  [12 13 14 15]]\n",
      "\n",
      " [[16 17 18 19]\n",
      "  [20 21 22 23]\n",
      "  [24 25 26 27]\n",
      "  [28 29 30 31]]]\n",
      "\n",
      "x[(0, 0, 1)] ()\n",
      "1\n",
      "\n"
     ]
    }
   ],
   "source": [
    "# GOTCHA: accidentally invoking advanced indexing\n",
    "display('x[(0, 0, 1),]')\n",
    "display('x[(0, 0, 1)]')"
   ]
  },
  {
   "cell_type": "markdown",
   "metadata": {},
   "source": [
    "Basic indices let us access hyper-rectangles with strides:\n",
    "\n",
    "<img src=\"assets/slices.png\" alt=\"http://www.scipy-lectures.org/intro/numpy/numpy.html\" width=\"300\">\n",
    "\n",
    "### Advanced Indexing\n",
    "\n",
    "Arbitrary combinations of basic indexing. **GOTCHA: All advanced index results are copies, not views**.\n",
    "\n",
    "Advanced indexing is best thought of in the following way:\n",
    "\n",
    "A typical `ndarray`, `x`, with shape `(n0, n1, ..., nN-1)` has `N` corresponding _indices_. \n",
    "\n",
    "`(range(n0), range(n1), ..., range(nN-1))`\n",
    "\n",
    "The `(i0, i1, ..., iN-1)`-th element is `(range(n0)[i0], range(n1)[i1], ..., range(n2)[iN-1]) == (i0, i1, ..., iN-1)`\n",
    "\n",
    "An advanced index `x[:, :, ..., ind, ..., :]`, where `ind` is some 1D list of integers for axis `j` between `0` and `nj`, possibly with repretition, replaces the straightforward increasing indices with:\n",
    "\n",
    "`(range(n0), range(n1), ..., ind, ..., range(nN-1))`\n",
    "\n",
    "The `(i0, i1, ..., iN-1)`-th element is `(i0, i1, ..., ind[ij], ..., iN-1)`.\n",
    "\n",
    "So the shape will now be `(n0, n1, ..., len(ind), ..., nn)`.\n",
    "\n",
    "It can get even more complicated -- `ind` can be higher dimensional; see examples below."
   ]
  },
  {
   "cell_type": "code",
   "execution_count": 165,
   "metadata": {},
   "outputs": [
    {
     "name": "stdout",
     "output_type": "stream",
     "text": [
      "m (4, 5)\n",
      "[[ 0  1  2  3  4]\n",
      " [ 5  6  7  8  9]\n",
      " [10 11 12 13 14]\n",
      " [15 16 17 18 19]]\n",
      "\n",
      "m[[1,2],:] (2, 5)\n",
      "[[ 5  6  7  8  9]\n",
      " [10 11 12 13 14]]\n",
      "\n"
     ]
    }
   ],
   "source": [
    "m = np.arange(4 * 5).reshape(4, 5)\n",
    "\n",
    "# 1D advanced index\n",
    "display('m')\n",
    "display('m[[1,2],:]')"
   ]
  },
  {
   "cell_type": "code",
   "execution_count": 166,
   "metadata": {},
   "outputs": [
    {
     "name": "stdout",
     "output_type": "stream",
     "text": [
      "m (4, 5)\n",
      "[[ 0  1  2  3  4]\n",
      " [ 5  6  7  8  9]\n",
      " [10 11 12 13 14]\n",
      " [15 16 17 18 19]]\n",
      "\n",
      "m[0:1, [[1, 1, 2],[0, 1, 2]]] (1, 2, 3)\n",
      "[[[1 1 2]\n",
      "  [0 1 2]]]\n",
      "\n"
     ]
    }
   ],
   "source": [
    "# 2D advanced index\n",
    "display('m')\n",
    "display('m[0:1, [[1, 1, 2],[0, 1, 2]]]')"
   ]
  },
  {
   "cell_type": "markdown",
   "metadata": {},
   "source": [
    "The above covers the case of one advanced index and the rest being basic. One other common situation that comes up in practice is every index is advanced.\n",
    "\n",
    "Recall array `x` with shape `(n0, ..., nN-1)`. Let `indj` be integer `ndarrays` all of the same shape (say, `(m0, ..., mM-1)`).\n",
    "\n",
    "Then `x[ind0, ... indN-1]` has shape `(m0, ..., mM-1)` and its `t=(j0, ..., jM-1)`-th element is the `(ind0[t], ..., indN-1(t))`-th element of `x`."
   ]
  },
  {
   "cell_type": "code",
   "execution_count": 196,
   "metadata": {},
   "outputs": [
    {
     "name": "stdout",
     "output_type": "stream",
     "text": [
      "m (4, 5)\n",
      "[[ 0  1  2  3  4]\n",
      " [ 5  6  7  8  9]\n",
      " [10 11 12 13 14]\n",
      " [15 16 17 18 19]]\n",
      "\n",
      "m[[1,2],[3,4]] (2,)\n",
      "[ 8 14]\n",
      "\n",
      "m[np.ix_([1,2],[3,4])] (2, 2)\n",
      "[[ 8  9]\n",
      " [13 14]]\n",
      "\n",
      "m[0, np.r_[:2, slice(3, 1, -1), 2]] (5,)\n",
      "[0 1 3 2 2]\n",
      "\n"
     ]
    }
   ],
   "source": [
    "display('m')\n",
    "display('m[[1,2],[3,4]]')\n",
    "\n",
    "# ix_: only applies to 1D indices. computes the cross product\n",
    "display('m[np.ix_([1,2],[3,4])]')\n",
    "\n",
    "# r_: concatenates slices and all forms of indices\n",
    "display('m[0, np.r_[:2, slice(3, 1, -1), 2]]')"
   ]
  },
  {
   "cell_type": "code",
   "execution_count": 205,
   "metadata": {},
   "outputs": [
    {
     "name": "stdout",
     "output_type": "stream",
     "text": [
      "[7 2 9 1 0 8 4 5 6 3]\n",
      "[1 0 1 1 0 0 0 1 0 1]\n",
      "[2 7 2 2 7 7 7 2 7 2]\n",
      "[7 9 1 5 3]\n"
     ]
    }
   ],
   "source": [
    "# Boolean arrays are converted to integers where they're true\n",
    "# Then they're treated like the corresponding integer arrays\n",
    "np.random.seed(1234)\n",
    "digits = np.random.permutation(np.arange(10))\n",
    "is_odd = digits % 2\n",
    "print(digits)\n",
    "print(is_odd)\n",
    "print(digits[is_odd]) # GOTCHA\n",
    "print(digits[is_odd.astype(bool)])"
   ]
  },
  {
   "cell_type": "code",
   "execution_count": 209,
   "metadata": {},
   "outputs": [
    {
     "name": "stdout",
     "output_type": "stream",
     "text": [
      "[7 2 9 1 0 8 4 5 6 3]\n",
      "[0 2 3 7 9]\n",
      "[7 9 1 5 3]\n"
     ]
    }
   ],
   "source": [
    "print(digits)\n",
    "print(is_odd.nonzero()[0])\n",
    "print(digits[is_odd.nonzero()])"
   ]
  },
  {
   "cell_type": "markdown",
   "metadata": {},
   "source": [
    "### Indexing Applications"
   ]
  },
  {
   "cell_type": "code",
   "execution_count": 240,
   "metadata": {},
   "outputs": [
    {
     "data": {
      "text/plain": [
       "array([ 1.,  2.,  3.,  2.,  1.])"
      ]
     },
     "execution_count": 240,
     "metadata": {},
     "output_type": "execute_result"
    }
   ],
   "source": [
    "# Data cleanup / filtering\n",
    "\n",
    "x = np.array([1, 2, 3, np.nan, 2, 1, np.nan])\n",
    "x[~np.isnan(x)]"
   ]
  },
  {
   "cell_type": "code",
   "execution_count": 229,
   "metadata": {
    "scrolled": true
   },
   "outputs": [
    {
     "name": "stdout",
     "output_type": "stream",
     "text": [
      "(100, 2)\n",
      "(100,)\n",
      "{0, 1}\n"
     ]
    }
   ],
   "source": [
    "# Selecting labelled data (e.g. for plotting)\n",
    "\n",
    "%matplotlib inline\n",
    "import matplotlib.pyplot as plt\n",
    "\n",
    "# From DBSCAN sklearn ex\n",
    "from sklearn.datasets.samples_generator import make_blobs\n",
    "\n",
    "X, labels = make_blobs(n_samples=100, centers=[[0, 0], [1, 1]], cluster_std=0.4, random_state=0)\n",
    "print(X.shape)\n",
    "print(labels.shape)\n",
    "print(set(labels))"
   ]
  },
  {
   "cell_type": "code",
   "execution_count": 258,
   "metadata": {},
   "outputs": [
    {
     "data": {
      "image/png": "[encoded data removed]",
      "text/plain": [
       "<matplotlib.figure.Figure at 0x7fb98f9933c8>"
      ]
     },
     "metadata": {},
     "output_type": "display_data"
    }
   ],
   "source": [
    "# Artificially make some values nan\n",
    "def plot_all():\n",
    "    for label, color in [(0, 'b'), (1, 'r')]:\n",
    "        xy = X[labels == label]\n",
    "        plt.scatter(xy[:, 0], xy[:, 1], color=color, marker='.')\n",
    "\n",
    "    plt.axis([-1, 2, -1, 2])\n",
    "    \n",
    "plot_all()\n",
    "plt.show()"
   ]
  },
  {
   "cell_type": "code",
   "execution_count": 260,
   "metadata": {},
   "outputs": [
    {
     "data": {
      "image/png": "[encoded data removed]",
      "text/plain": [
       "<matplotlib.figure.Figure at 0x7fb985e8acf8>"
      ]
     },
     "metadata": {},
     "output_type": "display_data"
    }
   ],
   "source": [
    "# Use thresholding to find some points where the clusters meet along the first principle component\n",
    "\n",
    "from sklearn.decomposition import PCA\n",
    "\n",
    "top_component = PCA().fit(X).components_[0]\n",
    "dots = X.dot(top_component)\n",
    "pca_margin = dots - dots.mean()\n",
    "plot_all()\n",
    "max_margin = dots.std() / 3\n",
    "\n",
    "threshold = np.bitwise_and(-max_margin < pca_margin, pca_margin < max_margin)\n",
    "\n",
    "xy = X[threshold]\n",
    "plt.scatter(xy[:, 0], xy[:, 1], color='black', marker='.')  \n",
    "plt.show()"
   ]
  },
  {
   "cell_type": "code",
   "execution_count": 277,
   "metadata": {},
   "outputs": [
    {
     "data": {
      "image/png": "[encoded data removed]",
      "text/plain": [
       "<matplotlib.figure.Figure at 0x7fb986254b00>"
      ]
     },
     "metadata": {},
     "output_type": "display_data"
    }
   ],
   "source": [
    "# Contour plots\n",
    "# How to plot sin(x)*sin(y) heatmap?\n",
    "\n",
    "xs, ys = np.mgrid[0:5:100j, 0:5:100j] # genertate mesh\n",
    "Z = np.sin(xs) * np.sin(ys)\n",
    "plt.imshow(Z, extent=(0, 5, 0, 5))\n",
    "plt.show()"
   ]
  },
  {
   "cell_type": "code",
   "execution_count": 423,
   "metadata": {},
   "outputs": [
    {
     "data": {
      "image/png": "[encoded data removed]",
      "text/plain": [
       "<matplotlib.figure.Figure at 0x7fb985330550>"
      ]
     },
     "metadata": {},
     "output_type": "display_data"
    }
   ],
   "source": [
    "# Actual problem from my research:\n",
    "\n",
    "# Suppose you have 2 sensors, each of which should take measurements\n",
    "# at even intervals over the day. We want to make a method which can let us\n",
    "# recover from device failure: if a sensor goes down for an extended period,\n",
    "# can we impute the missing values from the other?\n",
    "\n",
    "# Take for example two strongly correlated measured signals:\n",
    "\n",
    "np.random.seed(1234)\n",
    "s1 = np.sin(np.linspace(0, 10, 100)) + np.random.randn(100) * 0.05\n",
    "s2 = 2 * np.sin(np.linspace(0, 10, 100)) + np.random.randn(100) * 0.05\n",
    "plt.plot(s1, color='blue')\n",
    "plt.plot(s2, color='red')\n",
    "plt.show()"
   ]
  },
  {
   "cell_type": "code",
   "execution_count": 521,
   "metadata": {},
   "outputs": [
    {
     "data": {
      "image/png": "[encoded data removed]",
      "text/plain": [
       "<matplotlib.figure.Figure at 0x7fb985801898>"
      ]
     },
     "metadata": {},
     "output_type": "display_data"
    }
   ],
   "source": [
    "# Simulate a failure in sensor 2 for a random 40-index period\n",
    "\n",
    "def holdout():\n",
    "    width = 40\n",
    "    start = np.random.randint(0, len(s2) - width)\n",
    "    missing = slice(start, start + width)\n",
    "    return missing, np.r_[:start, missing.stop:len(s2)]\n",
    "\n",
    "# Find the most likely scaling for reconstructing s2 from s1\n",
    "def factor_finder(train_ix):\n",
    "    return np.mean((s2[train_ix] + 0.0001) / (s1[train_ix] + 0.0001))\n",
    "\n",
    "test, train = holdout()\n",
    "f = factor_finder(train)\n",
    "\n",
    "\n",
    "def plot_factor(factor):\n",
    "    times = np.arange(len(s1))\n",
    "    test, train = holdout()\n",
    "    plt.plot(times, s1, color='blue', ls='--', label='s1')\n",
    "    plt.scatter(times[train], s2[train], color='red', marker='.', label='train')\n",
    "    plt.plot(times[test], s1[test] * factor, color='green', alpha=0.6, label='prediction')\n",
    "    plt.scatter(times[test], s2[test], color='magenta', marker='.', label='test')\n",
    "    plt.legend(bbox_to_anchor=(1.05, 0.6), loc=2)\n",
    "    plt.title('prediction factor {}'.format(factor))\n",
    "    plt.show()\n",
    "\n",
    "plot_factor(f)"
   ]
  },
  {
   "cell_type": "code",
   "execution_count": 522,
   "metadata": {},
   "outputs": [],
   "source": [
    "# Cubic kernel convolution and interpolation\n",
    "# Complicated example; take a look on your own time!\n",
    "\n",
    "import scipy\n",
    "\n",
    "# From Cubic Convolution Interpolation (Keys 1981)\n",
    "# Computes a piecewise cubic kernel evaluated at each data point in x\n",
    "def cubic_kernel(x):\n",
    "    y = np.zeros_like(x)\n",
    "    x = np.fabs(x)\n",
    "    if np.any(x > 2):\n",
    "        raise ValueError('only absolute values <= 2 allowed')\n",
    "    q = x <= 1\n",
    "    y[q] = ((1.5 * x[q] - 2.5) * x[q]) * x[q] + 1\n",
    "    q = ~q\n",
    "    y[q] = ((-0.5 * x[q] + 2.5) * x[q] - 4) * x[q] + 2\n",
    "    return y\n",
    "\n",
    "# Everything is 1D\n",
    "# Given a uniform grid of size grid_size\n",
    "# and requested samples of size n_samples,\n",
    "# generates an n_samples x grid_size interpolation matrix W\n",
    "# such that W.f(grid) ~ f(samples) for differentiable f and samples\n",
    "# inside of the grid.\n",
    "def interp_cubic(grid, samples):\n",
    "    delta = grid[1] - grid[0]\n",
    "    factors = (samples - grid[0]) / delta\n",
    "    # closest refers to the closest grid point that is smaller\n",
    "    idx_of_closest = np.floor(factors)\n",
    "    dist_to_closest = factors - idx_of_closest # in units of delta\n",
    "\n",
    "    grid_size = len(grid)\n",
    "    n_samples = len(samples)\n",
    "    csr = scipy.sparse.csr_matrix((n_samples, grid_size), dtype=float)\n",
    "    for conv_idx in range(-2, 2): # sliding convolution window\n",
    "        coeff_idx = idx_of_closest - conv_idx\n",
    "        coeff_idx[coeff_idx < 0] = 0 # threshold (no wraparound below)\n",
    "        coeff_idx[coeff_idx >= grid_size] = grid_size - 1 # threshold (no wraparound above)\n",
    "        \n",
    "        relative_dist = dist_to_closest + conv_idx\n",
    "        data = cubic_kernel(relative_dist)\n",
    "        col_idx = coeff_idx\n",
    "        ind_ptr = np.arange(0, n_samples + 1)\n",
    "        csr += scipy.sparse.csr_matrix((data, col_idx, ind_ptr),\n",
    "                                       shape=(n_samples, grid_size))\n",
    "    return csr\n",
    "    \n",
    "lo, hi = 0, 1\n",
    "fine = np.linspace(lo, hi, 100)\n",
    "coarse = np.linspace(lo, hi, 15)\n",
    "W = interp_cubic(coarse, fine)"
   ]
  },
  {
   "cell_type": "code",
   "execution_count": 422,
   "metadata": {},
   "outputs": [
    {
     "data": {
      "image/png": "[encoded data removed]",
      "text/plain": [
       "<matplotlib.figure.Figure at 0x7fb9859aee10>"
      ]
     },
     "metadata": {},
     "output_type": "display_data"
    }
   ],
   "source": [
    "def f(x):\n",
    "    a = np.sin(2 / (x + 0.2)) * (x + 0.1)\n",
    "    # a = a * np.cos(5 * x)\n",
    "    # a = a * np.cos(2 * x)\n",
    "    return a\n",
    "\n",
    "known = f(coarse) # only use coarse\n",
    "interp = W.dot(known)\n",
    "\n",
    "plt.scatter(coarse, known, color='blue', label='grid')\n",
    "plt.plot(fine, interp, color='red', label='interp')\n",
    "plt.plot(fine, f(fine), color='black', label='exact', ls=':')\n",
    "plt.legend(bbox_to_anchor=(1.05, 0.6), loc=2)\n",
    "plt.show()"
   ]
  },
  {
   "cell_type": "markdown",
   "metadata": {},
   "source": [
    "# Array Creation and Initialization\n",
    "\n",
    "[doc](https://docs.scipy.org/doc/numpy-dev/reference/routines.array-creation.html)\n",
    "\n",
    "If unspecified, default dtype is usually float, with an exception for arange."
   ]
  },
  {
   "cell_type": "code",
   "execution_count": 434,
   "metadata": {},
   "outputs": [
    {
     "name": "stdout",
     "output_type": "stream",
     "text": [
      "np.linspace(4, 8, 2) (2,)\n",
      "[ 4.  8.]\n",
      "\n",
      "np.arange(4, 8, 2) (2,)\n",
      "[4 6]\n",
      "\n"
     ]
    }
   ],
   "source": [
    "display('np.linspace(4, 8, 2)')\n",
    "display('np.arange(4, 8, 2)')"
   ]
  },
  {
   "cell_type": "code",
   "execution_count": 436,
   "metadata": {},
   "outputs": [
    {
     "data": {
      "image/png": "[encoded data removed]",
      "text/plain": [
       "<matplotlib.figure.Figure at 0x7fb98597ea90>"
      ]
     },
     "metadata": {},
     "output_type": "display_data"
    }
   ],
   "source": [
    "plt.plot(np.linspace(1, 4, 10), np.logspace(1, 4, 10))\n",
    "plt.show()"
   ]
  },
  {
   "cell_type": "code",
   "execution_count": 484,
   "metadata": {},
   "outputs": [
    {
     "name": "stdout",
     "output_type": "stream",
     "text": [
      "[[ 0.  0.]\n",
      " [ 0.  0.]\n",
      " [ 0.  0.]\n",
      " [ 0.  0.]]\n",
      "[[ 1.  2.]\n",
      " [ 0.  0.]\n",
      " [ 0.  0.]\n",
      " [ 0.  0.]]\n"
     ]
    }
   ],
   "source": [
    "shape = (4, 2)\n",
    "print(np.zeros(shape)) # init to zero. Use np.ones or np.full accordingly\n",
    "\n",
    "# [GOTCHA] np.empty won't initialize anything; it will just grab the first available chunk of memory\n",
    "x = np.zeros(shape)\n",
    "x[0] = [1, 2]\n",
    "del x\n",
    "print(np.empty(shape))"
   ]
  },
  {
   "cell_type": "code",
   "execution_count": 479,
   "metadata": {},
   "outputs": [
    {
     "data": {
      "text/plain": [
       "array([[1, 2],\n",
       "       [3, 4],\n",
       "       [5, 6]])"
      ]
     },
     "execution_count": 479,
     "metadata": {},
     "output_type": "execute_result"
    }
   ],
   "source": [
    "# From iterator/list/array - can just use constructor\n",
    "np.array([[1, 2], range(3, 5), np.array([5, 6])]) # auto-flatten (if possible)"
   ]
  },
  {
   "cell_type": "code",
   "execution_count": 482,
   "metadata": {},
   "outputs": [
    {
     "name": "stdout",
     "output_type": "stream",
     "text": [
      "[[0 1]\n",
      " [2 5]]\n",
      "[[0 1]\n",
      " [2 3]]\n",
      "[[0 0]\n",
      " [0 0]]\n"
     ]
    }
   ],
   "source": [
    "# Deep copies & shape/dtype preserving creations\n",
    "x = np.arange(4).reshape(2, 2)\n",
    "y = np.copy(x)\n",
    "z = np.zeros_like(x)\n",
    "x[1, 1] = 5\n",
    "print(x)\n",
    "print(y)\n",
    "print(z)"
   ]
  },
  {
   "cell_type": "code",
   "execution_count": null,
   "metadata": {
    "collapsed": true
   },
   "outputs": [],
   "source": [
    "np.repeat() # also tile"
   ]
  },
  {
   "cell_type": "markdown",
   "metadata": {},
   "source": [
    "Extremely extensive [random generation](https://docs.scipy.org/doc/numpy/reference/routines.random.html). Remember to seed!\n",
    "\n",
    "# Transposition\n",
    "\n",
    "**Under the hood**. So far, we've just been looking at the abstraction that NumPy offers. How does it actually keep things contiguous in memory?\n",
    "\n",
    "We have a base array, which is one long contiguous array from 0 to size - 1."
   ]
  },
  {
   "cell_type": "code",
   "execution_count": 485,
   "metadata": {},
   "outputs": [
    {
     "name": "stdout",
     "output_type": "stream",
     "text": [
      "(2, 3, 4)\n",
      "24\n"
     ]
    }
   ],
   "source": [
    "x = np.arange(2 * 3 * 4).reshape(2, 3, 4)\n",
    "print(x.shape)\n",
    "print(x.size)"
   ]
  },
  {
   "cell_type": "code",
   "execution_count": 487,
   "metadata": {},
   "outputs": [
    {
     "name": "stdout",
     "output_type": "stream",
     "text": [
      "[ 0  1  2  3  4  5  6  7  8  9 10 11 12 13 14 15 16 17 18 19 20 21 22 23]\n",
      "[[[ 0  1  2  3]\n",
      "  [ 4  5  6  7]\n",
      "  [ 8  9 10 11]]\n",
      "\n",
      " [[12 13 14 15]\n",
      "  [16 17 18 19]\n",
      "  [20 21 22 23]]]\n"
     ]
    }
   ],
   "source": [
    "# Use ravel() to get the underlying flat array. np.flatten() will give you the original\n",
    "print(x.ravel())\n",
    "print(x)"
   ]
  },
  {
   "cell_type": "code",
   "execution_count": 497,
   "metadata": {},
   "outputs": [
    {
     "name": "stdout",
     "output_type": "stream",
     "text": [
      "transpose (2, 3, 4) -> (4, 3, 2)\n",
      "rollaxis (2, 3, 4) -> (3, 2, 4)\n",
      "\n",
      "arbitrary permutation [0, 1, 2] [0 2 1]\n",
      "(2, 3, 4) -> (2, 4, 3)\n",
      "moved[1, 2, 0] 14 x[1, 0, 2] 14\n"
     ]
    }
   ],
   "source": [
    "# np.transpose or *.T will reverse axes\n",
    "print('transpose', x.shape, '->', x.T.shape)\n",
    "# rollaxis pulls the argument axis to the front (largest stride)\n",
    "print('rollaxis', x.shape, '->', np.rollaxis(x, 1).shape)\n",
    "\n",
    "print()\n",
    "# all the above are instances of np.moveaxis\n",
    "# it's clear how these behave:\n",
    "\n",
    "perm = np.array([0, 2, 1])\n",
    "moved = np.moveaxis(x, range(3), perm)\n",
    "\n",
    "print('arbitrary permutation', list(range(3)), perm)\n",
    "print(x.shape, '->', moved.shape)\n",
    "print('moved[1, 2, 0]', moved[1, 2, 0], 'x[1, 0, 2]', x[1, 0, 2])"
   ]
  },
  {
   "cell_type": "code",
   "execution_count": 506,
   "metadata": {},
   "outputs": [
    {
     "name": "stdout",
     "output_type": "stream",
     "text": [
      "sigma 3.19, eig 3.19\n"
     ]
    }
   ],
   "source": [
    "# When is transposition useful?\n",
    "# Matrix stuff, mostly:\n",
    "np.random.seed(1234)\n",
    "\n",
    "X = np.random.randn(3, 4)\n",
    "print('sigma {:.2f}, eig {:.2f}'.format(\n",
    "    np.linalg.svd(X)[1].max(),\n",
    "    np.sqrt(np.linalg.eigvalsh(X.dot(X.T)).max())))"
   ]
  },
  {
   "cell_type": "code",
   "execution_count": 511,
   "metadata": {},
   "outputs": [
    {
     "data": {
      "image/png": "[encoded data removed]",
      "text/plain": [
       "<matplotlib.figure.Figure at 0x7fb9851dcfd0>"
      ]
     },
     "metadata": {},
     "output_type": "display_data"
    },
    {
     "data": {
      "image/png": "[encoded data removed]",
      "text/plain": [
       "<matplotlib.figure.Figure at 0x7fb98549a828>"
      ]
     },
     "metadata": {},
     "output_type": "display_data"
    },
    {
     "name": "stdout",
     "output_type": "stream",
     "text": [
      "Check frob norm upper vs lower tri 0.0\n"
     ]
    }
   ],
   "source": [
    "# Create a random symmetric matrix\n",
    "X = np.random.randn(3, 3)\n",
    "plt.imshow(X)\n",
    "plt.show()\n",
    "\n",
    "# GOTCHA: transpose gives a view!\n",
    "# X += X.T <- would be undefined\n",
    "X = X + X.T\n",
    "plt.imshow(X)\n",
    "plt.show()\n",
    "\n",
    "print('Check frob norm upper vs lower tri', np.linalg.norm(np.triu(X) - np.tril(X).T))"
   ]
  },
  {
   "cell_type": "code",
   "execution_count": 29,
   "metadata": {},
   "outputs": [
    {
     "name": "stdout",
     "output_type": "stream",
     "text": [
      "[[0 1 2]\n",
      " [3 4 5]]\n",
      "[[0 1 2]\n",
      " [3 4 5]]\n"
     ]
    }
   ],
   "source": [
    "# Row-major, C-order\n",
    "# largest axis changes fastest\n",
    "A = np.arange(2 * 3).reshape(2, 3).copy(order='C')\n",
    "\n",
    "# Row-major, Fortran-order\n",
    "# smallest axis changes fastest\n",
    "B = np.arange(2 * 3).reshape(2, 3).copy(order='F')\n",
    "\n",
    "# Differences in representation don't manifest in abstraction\n",
    "print(A)\n",
    "print(B)"
   ]
  },
  {
   "cell_type": "code",
   "execution_count": 35,
   "metadata": {},
   "outputs": [
    {
     "name": "stdout",
     "output_type": "stream",
     "text": [
      "[0 1 2 3 4 5]\n",
      "[0 3 1 4 2 5]\n",
      "[[0 3 1]\n",
      " [4 2 5]]\n",
      "[[0 1 2]\n",
      " [3 4 5]]\n"
     ]
    }
   ],
   "source": [
    "# Array manipulation functions with order option\n",
    "# will use C/F ordering, but this is independent of the underlying layout\n",
    "print(A.ravel())\n",
    "print(A.ravel(order='F'))\n",
    "\n",
    "# Reshape ravels an array, then folds back into shape, according to the given order\n",
    "# Note reshape can infer one dimension; we leave it as -1.\n",
    "print(A.ravel(order='F').reshape(-1, 3))\n",
    "print(A.ravel(order='F').reshape(-1, 3, order='F'))"
   ]
  },
  {
   "cell_type": "markdown",
   "metadata": {},
   "source": [
    "# Broadcasting"
   ]
  },
  {
   "cell_type": "markdown",
   "metadata": {},
   "source": [
    "# Array Composition"
   ]
  },
  {
   "cell_type": "code",
   "execution_count": 470,
   "metadata": {
    "collapsed": true
   },
   "outputs": [],
   "source": [
    "# https://docs.scipy.org/doc/numpy/reference/routines.array-manipulation.html\n",
    "# padding"
   ]
  },
  {
   "cell_type": "markdown",
   "metadata": {},
   "source": [
    "### Array Transformations"
   ]
  },
  {
   "cell_type": "code",
   "execution_count": null,
   "metadata": {
    "collapsed": true
   },
   "outputs": [],
   "source": [
    "# config\n",
    "#http://stackoverflow.com/questions/9000164/how-to-check-blas-lapack-linkage-in-numpy-scipy\n",
    "    \n",
    "    # conda mkl note\n",
    "    \n",
    "# broadcasting (diagonal matrix example)"
   ]
  },
  {
   "cell_type": "code",
   "execution_count": null,
   "metadata": {
    "collapsed": true
   },
   "outputs": [],
   "source": [
    "# give general perf pointers -- vectorize, vectorize, vectorize for clarity and efficiency!\n",
    "\n",
    "# unary elementwise functions /ufunc (1-1) (frompyfunc GOTCHA doesn't C-ify)\n",
    "# https://docs.scipy.org/doc/numpy/reference/ufuncs.html\n",
    "\n",
    "# multi-ary elementwise\n",
    "\n",
    "# reductions (many-1)\n",
    "\n",
    "# gotcha: matrix stuff\n",
    "# https://docs.scipy.org/doc/numpy/user/numpy-for-matlab-users.html#array-or-matrix-which-should-i-use\n",
    "#don't use matrices\n",
    "# (multi-ary) tensor-to-tensor (many-many) ffts, linear algebra, outer, etc. Can still vectorize, even on many-to-many\n",
    "\n",
    "# discussion on what gets put in C (experiments showing ufunc stuff not parallelized)\n",
    "# http://stackoverflow.com/questions/35500925/is-numpy-einsum-efficient-compared-to-fortran-or-c\n",
    "\n",
    "# Re-using memory (out parameters)"
   ]
  },
  {
   "cell_type": "code",
   "execution_count": null,
   "metadata": {
    "collapsed": true
   },
   "outputs": [],
   "source": [
    "# \n",
    "# NOTE ALIASING\n",
    "# https://github.com/numpy/numpy/pull/8043\n",
    "# https://github.com/numpy/numpy/issues/8440 (search \"general rule\")"
   ]
  },
  {
   "cell_type": "code",
   "execution_count": null,
   "metadata": {
    "collapsed": true
   },
   "outputs": [],
   "source": [
    "# einsum ultilmate generalization of matrix products\n",
    "# https://obilaniu6266h16.wordpress.com/2016/02/04/einstein-summation-in-numpy/\n",
    "# einsum\n",
    "#http://ajcr.net/Basic-guide-to-einsum\n",
    "# https://docs.scipy.org/doc/numpy/reference/generated/numpy.einsum.html"
   ]
  },
  {
   "cell_type": "markdown",
   "metadata": {},
   "source": [
    "# Takeaways\n",
    "\n",
    "* Use NumPy arrays for a compact, cache-friendly, in-memory representation of structured numeric data.\n",
    "* Vectorize, vectorize, vectorize! Less loops!\n",
    "   * Expressive\n",
    "   * Fast\n",
    "   * Concise\n",
    "* Rely on powerful indexing API to avoid almost all Python loops\n",
    "* Rolling your own algorithm? Google it, NumPy probably has it built-in!\n",
    "\n",
    "\n",
    "Keeping stuff in C as much . Vectorize as much as you can: express your logic at the heighest level you can. Keep the time spent in C. Can't optimize across numpy ops (like a C compiler would/numpy would). But do you need that? Can't parallelize except BLAS, but is it computaitonal or memory bandwidth limited?\n",
    "\n",
    "printing \n",
    "\n",
    "advanced np presentation - serialization https://www.dataquest.io/blog/numpy-cheat-sheet/?imm_mid=0f1262&cmp=em-data-na-na-newsltr_20170426\n",
    "\n",
    "not mentioned stuff -- storage/io , gpu, numba"
   ]
  },
  {
   "cell_type": "code",
   "execution_count": 18,
   "metadata": {
    "collapsed": true
   },
   "outputs": [],
   "source": [
    "#Maybe: sparse matrices, scipy acceleration\n",
    "#    more ideas:\n",
    "#        https://speakerdeck.com/jakevdp/losing-your-loops-fast-numerical-computing-with-numpy-pycon-2015\n",
    "# I/O\n",
    "\n",
    "# https://docs.scipy.org/doc/numpy/reference/maskedarray.generic.html -> don't use it; prefer indexing [GOTCHAhttps://docs.scipy.org/doc/numpy/reference/maskedarray.generic.html]"
   ]
  },
  {
   "cell_type": "code",
   "execution_count": null,
   "metadata": {
    "collapsed": true
   },
   "outputs": [],
   "source": [
    "# http://cs231n.github.io/python-numpy-tutorial/\n",
    "\n",
    "# other data\n",
    "# https://docs.scipy.org/doc/numpy/reference/arrays.datetime.html\n",
    "# https://docs.scipy.org/doc/numpy/reference/routines.polynomials.html"
   ]
  }
 ],
 "metadata": {
  "celltoolbar": "Raw Cell Format",
  "kernelspec": {
   "display_name": "Python 3",
   "language": "python",
   "name": "python3"
  },
  "language_info": {
   "codemirror_mode": {
    "name": "ipython",
    "version": 3
   },
   "file_extension": ".py",
   "mimetype": "text/x-python",
   "name": "python",
   "nbconvert_exporter": "python",
   "pygments_lexer": "ipython3",
   "version": "3.6.1"
  }
 },
 "nbformat": 4,
 "nbformat_minor": 2
}
